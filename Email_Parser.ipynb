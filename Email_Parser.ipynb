{
 "cells": [
  {
   "cell_type": "code",
   "execution_count": 1,
   "metadata": {},
   "outputs": [],
   "source": [
    "import email\n",
    "from email import policy\n",
    "from email.parser import BytesParser\n",
    "import glob\n",
    "import re\n",
    "import pdfkit\n",
    "import os\n"
   ]
  },
  {
   "cell_type": "code",
   "execution_count": 11,
   "metadata": {},
   "outputs": [
    {
     "name": "stdout",
     "output_type": "stream",
     "text": [
      "39 number of files are to be processed.\n"
     ]
    }
   ],
   "source": [
    "def extract_file_url(student_file) -> dict():\n",
    "\n",
    "    count = 0\n",
    "\n",
    "    regex = 'http[s]?://(?:[a-zA-Z]|[0-9]|[$-_@.&+]|[!*\\(\\),]|(?:%[0-9a-fA-F][0-9a-fA-F]))+'\n",
    "    \n",
    "    student_dict = dict()\n",
    "\n",
    "    for student in student_file:\n",
    "\n",
    "        with open(student, 'rb') as fp:  # select a specific email file from the list\n",
    "            msg = BytesParser(policy=policy.default).parse(fp)\n",
    "            \n",
    "            body = msg.get_body(preferencelist=('plain')).get_content()\n",
    "\n",
    "            match = re.findall(regex, body)\n",
    "\n",
    "            student_dict[student] = match[2]\n",
    "        \n",
    "            count +=1 \n",
    "\n",
    "    print(f'{count} number of files are to be processed.')     \n",
    "       \n",
    "    return student_dict\n",
    "    \n",
    "name = extract_file_url(glob.glob('*.eml'))"
   ]
  },
  {
   "cell_type": "code",
   "execution_count": 3,
   "metadata": {},
   "outputs": [
    {
     "name": "stdout",
     "output_type": "stream",
     "text": [
      "A total of 39 pdfs were generated.\n"
     ]
    }
   ],
   "source": [
    "def get_pdf(student_dict):\n",
    "\n",
    "    count = 0\n",
    "\n",
    "    os.mkdir(\"Generated PDFs\")\n",
    "    \n",
    "    options = {'orientation': 'Landscape'}\n",
    "\n",
    "    for key, value in student_dict.items():\n",
    "        out_file = key + '.pdf'\n",
    "        pdfkit.from_url(value, out_file, options = options)\n",
    "        count +=1\n",
    "        \n",
    "    print(f'A total of {count} pdfs were generated.')\n",
    "\n",
    "get_pdf(name)\n"
   ]
  }
 ],
 "metadata": {
  "kernelspec": {
   "display_name": "Python 3.9.7 ('base')",
   "language": "python",
   "name": "python3"
  },
  "language_info": {
   "codemirror_mode": {
    "name": "ipython",
    "version": 3
   },
   "file_extension": ".py",
   "mimetype": "text/x-python",
   "name": "python",
   "nbconvert_exporter": "python",
   "pygments_lexer": "ipython3",
   "version": "3.9.7"
  },
  "orig_nbformat": 4,
  "vscode": {
   "interpreter": {
    "hash": "448e7e38fe111f17e868261c037ae6de695e5d1782576b84f995b3ed10243d97"
   }
  }
 },
 "nbformat": 4,
 "nbformat_minor": 2
}
